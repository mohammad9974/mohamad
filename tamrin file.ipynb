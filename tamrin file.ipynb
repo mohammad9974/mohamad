{
  "nbformat": 4,
  "nbformat_minor": 0,
  "metadata": {
    "colab": {
      "name": "Copy of Copy of Copy of Welcome To Colaboratory",
      "provenance": [],
      "collapsed_sections": [],
      "include_colab_link": true
    },
    "kernelspec": {
      "display_name": "Python 3",
      "name": "python3"
    }
  },
  "cells": [
    {
      "cell_type": "markdown",
      "metadata": {
        "id": "view-in-github",
        "colab_type": "text"
      },
      "source": [
        "<a href=\"https://colab.research.google.com/github/mohammad9974/mohamad/blob/main/tamrin%20file.ipynb\" target=\"_parent\"><img src=\"https://colab.research.google.com/assets/colab-badge.svg\" alt=\"Open In Colab\"/></a>"
      ]
    },
    {
      "cell_type": "code",
      "metadata": {
        "id": "rYNkVQD0e1o2"
      },
      "source": [
        "from google.colab import drive\n",
        "drive.mount('/content/drive')"
      ],
      "execution_count": null,
      "outputs": []
    },
    {
      "cell_type": "code",
      "metadata": {
        "id": "DLMKE0QpJW5c"
      },
      "source": [
        "%cd drive/My Drive/King"
      ],
      "execution_count": null,
      "outputs": []
    },
    {
      "cell_type": "code",
      "metadata": {
        "id": "SkKhZFbkfg7Q"
      },
      "source": [
        " from collections import *\n",
        " \n",
        "def train_char_lm(fname, order=4):\n",
        "    data = open(fname).read()\n",
        "    lm = defaultdict(Counter)\n",
        "    pad = \"~\" * order\n",
        "    data = pad + data\n",
        "    for i in range(len(data)-order):\n",
        "        history, char = data[i:i+order], data[i+order]\n",
        "        lm[history][char]+=1\n",
        "    def normalize(counter):\n",
        "        s = float(sum(counter.values()))\n",
        "        return [(c,cnt/s) for c,cnt in counter.items()]\n",
        "    outlm = {hist:normalize(chars) for hist, chars in lm.items()}\n",
        "    return outlm"
      ],
      "execution_count": null,
      "outputs": []
    },
    {
      "cell_type": "code",
      "metadata": {
        "id": "nshsPDHb0u6P",
        "colab": {
          "base_uri": "https://localhost:8080/"
        },
        "outputId": "5657a098-70ae-4a47-93d7-c628baa5aa47"
      },
      "source": [
        "!wget https://drive.google.com/file/d/18fy5lTX4JbcACXHiELStNXXzSYpk9qWJ/view?usp=drivesdk"
      ],
      "execution_count": null,
      "outputs": [
        {
          "output_type": "stream",
          "text": [
            "--2020-12-03 11:03:45--  https://drive.google.com/file/d/18fy5lTX4JbcACXHiELStNXXzSYpk9qWJ/view?usp=drivesdk\n",
            "Resolving drive.google.com (drive.google.com)... 172.217.204.113, 172.217.204.139, 172.217.204.101, ...\n",
            "Connecting to drive.google.com (drive.google.com)|172.217.204.113|:443... connected.\n",
            "HTTP request sent, awaiting response... 302 Moved Temporarily\n",
            "Location: https://accounts.google.com/ServiceLogin?service=wise&passive=1209600&continue=https://drive.google.com/file/d/18fy5lTX4JbcACXHiELStNXXzSYpk9qWJ/view?usp%3Ddrivesdk&followup=https://drive.google.com/file/d/18fy5lTX4JbcACXHiELStNXXzSYpk9qWJ/view?usp%3Ddrivesdk [following]\n",
            "--2020-12-03 11:03:46--  https://accounts.google.com/ServiceLogin?service=wise&passive=1209600&continue=https://drive.google.com/file/d/18fy5lTX4JbcACXHiELStNXXzSYpk9qWJ/view?usp%3Ddrivesdk&followup=https://drive.google.com/file/d/18fy5lTX4JbcACXHiELStNXXzSYpk9qWJ/view?usp%3Ddrivesdk\n",
            "Resolving accounts.google.com (accounts.google.com)... 108.177.12.84, 2607:f8b0:400c:c08::54\n",
            "Connecting to accounts.google.com (accounts.google.com)|108.177.12.84|:443... connected.\n",
            "HTTP request sent, awaiting response... 200 OK\n",
            "Length: unspecified [text/html]\n",
            "Saving to: ‘view?usp=drivesdk.15’\n",
            "\n",
            "view?usp=drivesdk.1     [ <=>                ]  61.04K  --.-KB/s    in 0.004s  \n",
            "\n",
            "2020-12-03 11:03:46 (14.0 MB/s) - ‘view?usp=drivesdk.15’ saved [62504]\n",
            "\n"
          ],
          "name": "stdout"
        }
      ]
    },
    {
      "cell_type": "code",
      "metadata": {
        "colab": {
          "base_uri": "https://localhost:8080/"
        },
        "id": "CEpLadAigop3",
        "outputId": "f9187d42-152d-405e-e9b7-dd611be786de"
      },
      "source": [
        "!wget https://drive.google.com/file/d/18XLbH2-wxDNhXeBtD4LjNgTI2J3PKys-/view?usp=drivesdk"
      ],
      "execution_count": null,
      "outputs": [
        {
          "output_type": "stream",
          "text": [
            "--2020-12-03 11:03:46--  https://drive.google.com/file/d/18XLbH2-wxDNhXeBtD4LjNgTI2J3PKys-/view?usp=drivesdk\n",
            "Resolving drive.google.com (drive.google.com)... 172.217.193.101, 172.217.193.113, 172.217.193.102, ...\n",
            "Connecting to drive.google.com (drive.google.com)|172.217.193.101|:443... connected.\n",
            "HTTP request sent, awaiting response... 302 Moved Temporarily\n",
            "Location: https://accounts.google.com/ServiceLogin?service=wise&passive=1209600&continue=https://drive.google.com/file/d/18XLbH2-wxDNhXeBtD4LjNgTI2J3PKys-/view?usp%3Ddrivesdk&followup=https://drive.google.com/file/d/18XLbH2-wxDNhXeBtD4LjNgTI2J3PKys-/view?usp%3Ddrivesdk [following]\n",
            "--2020-12-03 11:03:46--  https://accounts.google.com/ServiceLogin?service=wise&passive=1209600&continue=https://drive.google.com/file/d/18XLbH2-wxDNhXeBtD4LjNgTI2J3PKys-/view?usp%3Ddrivesdk&followup=https://drive.google.com/file/d/18XLbH2-wxDNhXeBtD4LjNgTI2J3PKys-/view?usp%3Ddrivesdk\n",
            "Resolving accounts.google.com (accounts.google.com)... 108.177.12.84, 2607:f8b0:400c:c08::54\n",
            "Connecting to accounts.google.com (accounts.google.com)|108.177.12.84|:443... connected.\n",
            "HTTP request sent, awaiting response... 200 OK\n",
            "Length: unspecified [text/html]\n",
            "Saving to: ‘view?usp=drivesdk.16’\n",
            "\n",
            "view?usp=drivesdk.1     [ <=>                ]  60.93K  --.-KB/s    in 0.005s  \n",
            "\n",
            "2020-12-03 11:03:46 (11.9 MB/s) - ‘view?usp=drivesdk.16’ saved [62388]\n",
            "\n"
          ],
          "name": "stdout"
        }
      ]
    },
    {
      "cell_type": "code",
      "metadata": {
        "id": "5JSJCBxn06T-"
      },
      "source": [
        "lm = train_char_lm(\"Hafez.txt\", order=10)"
      ],
      "execution_count": null,
      "outputs": []
    },
    {
      "cell_type": "code",
      "metadata": {
        "id": "7g75Pj4sfl81"
      },
      "source": [
        " lm = train_char_lm(\"anne-of-green-gables.txt\", order=10)"
      ],
      "execution_count": null,
      "outputs": []
    },
    {
      "cell_type": "code",
      "metadata": {
        "id": "ipaRlX3umjMg"
      },
      "source": [
        " from random import random\n",
        " \n",
        "def generate_letter(lm, history, order):\n",
        "        history = history[-order:]\n",
        "        dist = lm[history]\n",
        "        x = random()\n",
        "        for c,v in dist:\n",
        "            x = x - v\n",
        "            if x <= 0: return c"
      ],
      "execution_count": null,
      "outputs": []
    },
    {
      "cell_type": "code",
      "metadata": {
        "id": "K6svrhl-naxY"
      },
      "source": [
        " def generate_text(lm, order, nletters=1000):\n",
        "    history = \"~\" * order\n",
        "    out = []\n",
        "    for i in range(nletters):\n",
        "        c = generate_letter(lm, history, order)\n",
        "        history = history[-order:] + c\n",
        "        out.append(c)\n",
        "    return \"\".join(out)"
      ],
      "execution_count": null,
      "outputs": []
    },
    {
      "cell_type": "code",
      "metadata": {
        "colab": {
          "base_uri": "https://localhost:8080/"
        },
        "id": "KKpb6Zh5nmAQ",
        "outputId": "f07028cb-8002-41f7-b271-c974e7f3b818"
      },
      "source": [
        "lm = train_char_lm(\"anne-of-green-gables.txt\", order=2)\n",
        "print(generate_text(lm, 2))"
      ],
      "execution_count": null,
      "outputs": [
        {
          "output_type": "stream",
          "text": [
            "And exedgeourseen is\n",
            "rear ithe\n",
            "But ine.’\n",
            "Fred\n",
            "con te keto ther if thin minne shempaps was\n",
            "\n",
            "As is spe, and sain it, but a low, I shen the harien Mathe boon’t parill throthe my notthe\n",
            "sin per dreel to loppose\n",
            "is is sen\n",
            "341\n",
            "\n",
            "\fChad fatice. ‘Eacy was and homestn’t, ing thew the bles setic, If purned now didn’t day sinjust whoper the Mr. Ted afte res to pat the haver be an pruat sold on, be becting hathely. Brue sectille re ould hound\n",
            "coulla? Oh, ‘all everthe hat shed mis able, maird thelt tonel fuldre thorp an above net thablund ou. Chaugh he fork dough fuld forillauninne. Avone hat worls a boul. She\n",
            "go I’vere, ituddecall die,’ quesse he st to ingly some of min such.’\n",
            "Annes.\n",
            "Anne. ‘no’ stare wrand ing ong comay.\n",
            "Annever yountood nothew, pings ter the mied\n",
            "Dia gooke to ‘Wheye had ingethadooks ce.\n",
            "As yourbed trom I’m no me say orninget put dons and dou altilbeflostaspea. I’m ing hat ance. The extre\n",
            "name sayboul, growthave—yerry woods ithert eBoo. Herat ble\n",
            "giry nothershel thow un strust mig w\n"
          ],
          "name": "stdout"
        }
      ]
    },
    {
      "cell_type": "code",
      "metadata": {
        "id": "BaNyGhUq1qSr",
        "colab": {
          "base_uri": "https://localhost:8080/"
        },
        "outputId": "70773ea3-b9d3-46ed-9bd0-0f707b3b1574"
      },
      "source": [
        "lm = train_char_lm(\"Hafez.txt\", order=3)\n",
        "print(generate_text(lm, 3))"
      ],
      "execution_count": null,
      "outputs": [
        {
          "output_type": "stream",
          "text": [
            "‫‪103‬‬\n",
            "‫ﻛﺰ و ﻋﺎدت‬\n",
            "‫ﺷﻜﺮ ﻣﻦ ﻻف ﻋﺸﻖ دﻫﺎ دل ﻣﺎ زان را ﻧﺼﺮت ﻳﻚ ﺷﻜﺮ ﻏﻤﺖ ﺑﻪ ﭘﺎدﺷﺎﻫﺮاه رود آه آﻣﺪه دﻫﻨﺪ‬\n",
            "‫ﺧﻮن اﺳﺖ‬\n",
            "‫ﺑﻪ ﮔﻮي ﺧﻮاﻫﻲ ﻧﻈﺮ ﻛﻨﻨﺪ‬\n",
            "‫ﻛﻪ رﻧﺪارم‬\n",
            "\n",
            "\f‫‪243‬‬\n",
            "\n",
            "‫ﻏﺰل ‪446‬‬\n",
            "‫ﺷﻜﺴﺖ و ﻓﻀﻮل آن ﻋﻴﺎر و وزﻳﺴﺖ‬\n",
            "‫ﻣﺎﺗﻢ آﺧﺮ‬\n",
            "‫ﻛﻪ اﻳﻦ روي‬\n",
            "\n",
            "\f‫‪312‬‬\n",
            "\n",
            "‫ﻏﺰل ‪182‬‬\n",
            "‫ﺳﺎﻳﻪ ﺑﺴﺘﺎﻧﻪ ﺑﻪ ﺧﻮد ز رﺷﺤﻪ ﺧﻮش‬\n",
            "‫ﻋﻠﻢ روزﻧﻪ ﻛﺎم ﻣﺮاﻧﻨﺪ‬\n",
            "‫ﻣﺮﺣﺒﺎب‬\n",
            "‫ﻗﺮﻳﻨﺶ ﻣﺴﺖ اي ﻣﻠﻚ ازل ﮔﺸﺎي‬\n",
            "‫ﻧﻮﻣﻴﺪ آن ﭼﻮ ﺷﻮﻧﺪ ﻟﺮزاﻧﻮﻳﺴﻴﺪ‬\n",
            "‫زان ﺳﺎق زﺑﺎن ﻛﺮدم ﭼﺸﻢ ﻣﻲﺷﻮد ﻛﺰ ﺳﺎز ﻧﺎزﻧﻴﻦ‬\n",
            "‫ﺑﻪ وﻋﺪه ﺑﺎد‬\n",
            "‫ﺑﺎد‬\n",
            "‫ﭘﻴﺮ ﻣﻲﻛﺮده ﻧﺪاﺧﺖ‬\n",
            "‫ﺻﻨﻤﺎ ﻫﻤﻪ ﻛﻪ زور زورش ﺳﺮ ﻧﻔﺴﻲ‬\n",
            "‫ﺑﻪ ﺑﻪ ﺧﺠﺴﺘﻪ در ذﻛﺮ ﺧﻂ دﻟﺴﺘﺎﻧﻲ اي ﺷﺎﻫﺎ ﻛﺮد‬\n",
            "‫ﻛﻪ درس ﺷﺪ‬\n",
            "‫ﭘﺮﺳﺘﻤﺖ‬\n",
            "\n",
            "‫از ﺟﻨﺎب روزﮔﺎر ﻣﺮﻛﺐ روي ﺗﻮراﻟﺴﻼم ﻫﺎن ﺑﺎ ﺧﺎﺗﻢ دور اﻳﻦ ﻧﻔﺲ در آﺻﻒ ﻧﺸﺎن ﺑﺴﻮﺧﺖ‬\n",
            "‫اري ﻧﻴﺴﺖ‬\n",
            "‫آن ﺣﺪﻳﺚ ﻋﺸﻮه ﺑﺮ ﻟﻮح ﺑﺼﺮ ﺑﺨﺶ‬\n",
            "‫دﻟﺶ ﻣﻴﻞ اﻻﺳﺪ ﻣﺎﻫﺖ ﺑﺒﺎزي‬\n",
            "‫ﭼﻪ ﻳﺎ ﻣﺎه ﺗﻮ ﺧﺎﻟﻴﻪ ﺳﺎل ﺷﻮد‬\n",
            "‫ﺑﻪ زد ﻧﻢ ﺧﻴﺎل در ﺷﻮي‬\n",
            "‫ﻧﺴﺘﻢ ﻛﻪ ﻣﺎﻧﻲ ﻫﺴﺖ‬\n",
            "‫واﻧﻪ ﻣﺎ راز ﺧﻤﻮش‬\n",
            "‫روﺷﻦ ﺑﺮ ﻟﺐ آﺗﺶ زد ﺑﺎ ﻋﻠﻢ آه اﻳﻦ ﺣﻜﻢ ﻧﻜﺎر ﺑﺪرﺧﺸﻴﺪه‬\n",
            "‫ﭘﻴﺶ زر ﻧﻴﺴﺖ‬\n",
            "‫ﻛﺎﻫﻞ ﻧﻴﻢ و آن ﺣﺎدﺛﻪ ﺑﻪ ﻧﺴﺘﻢ‬\n",
            "‫اي ﺑﻮس ﺟﻬﺎن ﻧﺎﺳﺰاﻳﺎ ﻣﮕﺮ اﻳﻦ ﺧﺮﻗﻪ ﺳﺮﮔﺸﺘﻪاي دل ﺑﺨﻮان دﻋﺎ ﻧﻴﺴﺖ‬\n",
            "‫ﺑﻪ ﻏﺮق ﻣﺒﻴﻦ اﻫﻞ روز ﻣﺴﺘﻮري ﺳﺎﻛﻨﺎن او ﻏﻢ اﺳﺖ‬\n",
            "\n",
            "\f‫‪320‬‬\n",
            "‫ﺗﺎ ﻣ\n"
          ],
          "name": "stdout"
        }
      ]
    }
  ]
}